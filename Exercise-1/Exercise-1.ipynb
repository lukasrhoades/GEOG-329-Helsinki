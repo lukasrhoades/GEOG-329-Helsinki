{
 "cells": [
  {
   "cell_type": "markdown",
   "id": "62945d08-0851-4dd5-b42c-9353bc20fb64",
   "metadata": {},
   "source": [
    "# Exercise 1"
   ]
  },
  {
   "cell_type": "markdown",
   "id": "ca79b1c4-9994-4f4a-a887-2726d057a712",
   "metadata": {},
   "source": [
    "Following along to https://github.com/Geo-Python-2024/Exercise-1"
   ]
  },
  {
   "cell_type": "markdown",
   "id": "81d84f32-38d6-4b4e-87f3-2293ec5b759a",
   "metadata": {},
   "source": [
    "## Problem 1"
   ]
  },
  {
   "cell_type": "markdown",
   "id": "0649c956-e541-430c-b23c-0a576bc5bda1",
   "metadata": {},
   "source": [
    "File was renamed to Exercise-1.ipynb"
   ]
  },
  {
   "cell_type": "markdown",
   "id": "53b7ceac-88e4-4601-b0fe-b94233f6bfd9",
   "metadata": {},
   "source": [
    "## Problem 2"
   ]
  },
  {
   "cell_type": "code",
   "execution_count": 6,
   "id": "16cc83d6-96c3-4b66-bf42-d331b561f65e",
   "metadata": {},
   "outputs": [],
   "source": [
    "# Creating variable ice_cream_rating and storing int (0-10) reflecting how much I enjoy eating ice cream\n",
    "ice_cream_rating = 8\n",
    "# Creating variable sleeping_rating and storing int (0-10) reflecting how much I enjoy sleeping\n",
    "sleeping_rating = 9"
   ]
  },
  {
   "cell_type": "markdown",
   "id": "8756284b-cc8c-4856-8eeb-c50f3eb72725",
   "metadata": {},
   "source": [
    "## Problem 3"
   ]
  },
  {
   "cell_type": "code",
   "execution_count": 8,
   "id": "635aa186-565b-4abf-9112-5b57fdb09e36",
   "metadata": {},
   "outputs": [],
   "source": [
    "# Storing my first name\n",
    "first_name = 'Lukas'\n",
    "# Storing my last name\n",
    "last_name = 'Rhoades'\n",
    "# Combining to form my full name\n",
    "my_name = first_name +' '+ last_name"
   ]
  },
  {
   "cell_type": "markdown",
   "id": "b34585a9-5090-4b22-b662-e24e226c86e9",
   "metadata": {},
   "source": [
    "## Problem 4"
   ]
  },
  {
   "cell_type": "code",
   "execution_count": 10,
   "id": "34b7cc61-a73e-45dc-8fd5-294e7fde4ffe",
   "metadata": {},
   "outputs": [],
   "source": [
    "# Calculating happiness_rating, the avg of ice_cream_rating and sleeping_rating\n",
    "happiness_rating = (ice_cream_rating + sleeping_rating)/2"
   ]
  },
  {
   "cell_type": "markdown",
   "id": "4199c504-aa78-4da7-ba5c-713b00f5ce2e",
   "metadata": {},
   "source": [
    "## Problem 5"
   ]
  },
  {
   "cell_type": "code",
   "execution_count": 12,
   "id": "eaafb548-075d-413d-a8b0-c887f5c8578b",
   "metadata": {},
   "outputs": [
    {
     "name": "stdout",
     "output_type": "stream",
     "text": [
      "<class 'int'> <class 'str'> <class 'float'>\n"
     ]
    }
   ],
   "source": [
    "# Checking data types of three variables \n",
    "print(type(ice_cream_rating),type(first_name),type(happiness_rating))"
   ]
  },
  {
   "cell_type": "markdown",
   "id": "478401a8-1292-4f0e-8169-12785d79c20b",
   "metadata": {},
   "source": [
    "Integer type for ice_cream_rating was expected.\n",
    "String type for first_name was expected.\n",
    "Float type for happiness_rating was surprising as an integer was being divided to create an average, which is now a float."
   ]
  },
  {
   "cell_type": "markdown",
   "id": "e92ac3fa-7451-4639-91bb-ff31c701e4a9",
   "metadata": {},
   "source": [
    "## Problem 6"
   ]
  },
  {
   "cell_type": "code",
   "execution_count": 15,
   "id": "f4349ed3-7a19-45f4-92da-550aa5f0d776",
   "metadata": {},
   "outputs": [
    {
     "name": "stdout",
     "output_type": "stream",
     "text": [
      "My name is Lukas and I give eating ice cream a score of 8 out of 10!\n",
      "I am Lukas Rhoades and my sleeping enjoyment rating is 9 / 10!\n",
      "Based on the factors above, my happiness rating is 8.5 out of 10, or 85.0 %!\n"
     ]
    }
   ],
   "source": [
    "# Generating output of my happiness rating\n",
    "print('My name is',first_name,'and I give eating ice cream a score of',ice_cream_rating,'out of 10!')\n",
    "print('I am',my_name,'and my sleeping enjoyment rating is',sleeping_rating,'/ 10!')\n",
    "print('Based on the factors above, my happiness rating is',happiness_rating,'out of 10, or',10*happiness_rating,'%!')"
   ]
  }
 ],
 "metadata": {
  "kernelspec": {
   "display_name": "Python 3 (ipykernel)",
   "language": "python",
   "name": "python3"
  },
  "language_info": {
   "codemirror_mode": {
    "name": "ipython",
    "version": 3
   },
   "file_extension": ".py",
   "mimetype": "text/x-python",
   "name": "python",
   "nbconvert_exporter": "python",
   "pygments_lexer": "ipython3",
   "version": "3.11.6"
  }
 },
 "nbformat": 4,
 "nbformat_minor": 5
}
