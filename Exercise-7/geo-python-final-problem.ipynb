{
 "cells": [
  {
   "cell_type": "markdown",
   "metadata": {},
   "source": [
    "## FINAL TASK\n",
    "\n",
    "In short, your task is to find out all time warmest and coldest months from the data, and create a plot that shows the all-time warmest and coldest mean monthly temperatures from January to December:\n",
    "\n",
    "![img/monthly_min_max.png](img/monthly_min_max.png)\n",
    "\n",
    "### Input data\n",
    "\n",
    "Use one of the data files from lesson 6. If you want, you can of course repeate this process for all the weather stations! \n",
    "\n",
    "### Steps\n",
    "\n",
    "You can design the analysis workflow freely, but in general you will need to include these steps in your analysis:\n",
    "\n",
    "1. Read in data and parse the dates\n",
    "2. Convert Fahreheit to Celsius\n",
    "3. Calculate monthly mean temperatures for each unique month in the data (you can subset the data to a 30 year observation period)\n",
    "4. Calculate all time maximum and minimum temperatures for each month (January-December) based on the monthly means\n",
    "5. Plot all time minimum and maximum temperatures in one plot (months on the x-axis, temperature on the y-axis)\n",
    "\n",
    "Extra: plot an interactive plot (using Bokeh) where you can hover over the values and see which year did the minimum and maximum temperatures occur."
   ]
  },
  {
   "cell_type": "code",
   "execution_count": null,
   "metadata": {
    "deletable": false,
    "nbgrader": {
     "cell_type": "code",
     "checksum": "33090de4c38a37c2df8426d16aabab5b",
     "grade": false,
     "grade_id": "random_points",
     "locked": false,
     "schema_version": 3,
     "solution": true
    }
   },
   "outputs": [],
   "source": [
    "import pandas as pd\n",
    "\n",
    "# remember to comment your code using inline comments and markdown cells :)"
   ]
  },
  {
   "cell_type": "code",
   "execution_count": null,
   "metadata": {
    "deletable": false,
    "nbgrader": {
     "cell_type": "code",
     "checksum": "bac70abcca8969a6bbf11e298b0022f7",
     "grade": false,
     "grade_id": "cell-afa80129dd772792",
     "locked": false,
     "schema_version": 3,
     "solution": true,
     "task": false
    }
   },
   "outputs": [],
   "source": []
  },
  {
   "cell_type": "code",
   "execution_count": null,
   "metadata": {
    "deletable": false,
    "nbgrader": {
     "cell_type": "code",
     "checksum": "7619508992f09d4fe6e53d495a465ced",
     "grade": false,
     "grade_id": "cell-b602e416c2ad7a70",
     "locked": false,
     "schema_version": 3,
     "solution": true,
     "task": false
    }
   },
   "outputs": [],
   "source": []
  },
  {
   "cell_type": "code",
   "execution_count": null,
   "metadata": {
    "deletable": false,
    "nbgrader": {
     "cell_type": "code",
     "checksum": "4b867553b15a13afe947b30fc84162fb",
     "grade": false,
     "grade_id": "cell-1af10564db38faed",
     "locked": false,
     "schema_version": 3,
     "solution": true,
     "task": false
    }
   },
   "outputs": [],
   "source": []
  },
  {
   "cell_type": "code",
   "execution_count": null,
   "metadata": {
    "deletable": false,
    "nbgrader": {
     "cell_type": "code",
     "checksum": "b986f3f7a49e4ededc62dc809ed4498d",
     "grade": false,
     "grade_id": "cell-e6942d8a6821c756",
     "locked": false,
     "schema_version": 3,
     "solution": true,
     "task": false
    }
   },
   "outputs": [],
   "source": []
  },
  {
   "cell_type": "code",
   "execution_count": null,
   "metadata": {
    "deletable": false,
    "nbgrader": {
     "cell_type": "code",
     "checksum": "12d9f0c0131403a6a069eb4b582ddcff",
     "grade": false,
     "grade_id": "cell-953b5ff42408ca3f",
     "locked": false,
     "schema_version": 3,
     "solution": true,
     "task": false
    }
   },
   "outputs": [],
   "source": []
  }
 ],
 "metadata": {
  "kernelspec": {
   "display_name": "Python 3",
   "language": "python",
   "name": "python3"
  },
  "language_info": {
   "codemirror_mode": {
    "name": "ipython",
    "version": 3
   },
   "file_extension": ".py",
   "mimetype": "text/x-python",
   "name": "python",
   "nbconvert_exporter": "python",
   "pygments_lexer": "ipython3",
   "version": "3.7.4"
  }
 },
 "nbformat": 4,
 "nbformat_minor": 4
}
