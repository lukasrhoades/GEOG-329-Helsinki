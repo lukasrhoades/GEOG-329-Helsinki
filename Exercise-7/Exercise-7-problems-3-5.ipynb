{
 "cells": [
  {
   "cell_type": "markdown",
   "metadata": {},
   "source": [
    "# Exercise 7 - Problems 3-5 (18 points in total)"
   ]
  },
  {
   "cell_type": "markdown",
   "metadata": {},
   "source": [
    "## Problem 3 - Seasonal temperature anomalies, visualized (8 points)\n",
    "\n",
    "\n",
    "![seasonal_anomalies.png](img/seasonal_anomalies.png)\n",
    "\n",
    "For Problem 3, the goal is to visualize temperature anomalies for each season (Winter, Spring, Summer, Fall) over a thirty-year period (1988-2018) in four subplots.\n",
    "\n",
    "\n",
    "### Steps\n",
    "\n",
    "\n",
    "**1:** Read in the input data `data/helsinki-vantaa.csv` the same way you did in problem 2. Remember to parse dates from column `DATE`!"
   ]
  },
  {
   "cell_type": "code",
   "execution_count": null,
   "metadata": {
    "deletable": false,
    "nbgrader": {
     "cell_type": "code",
     "checksum": "151de7bc9173c1a268bd1a031699dab0",
     "grade": false,
     "grade_id": "read_data",
     "locked": false,
     "schema_version": 3,
     "solution": true
    }
   },
   "outputs": [],
   "source": [
    "# REPLACE THE ERROR BELOW WITH YOUR OWN CODE\n",
    "raise NotImplementedError()"
   ]
  },
  {
   "cell_type": "code",
   "execution_count": null,
   "metadata": {
    "deletable": false,
    "editable": false,
    "nbgrader": {
     "cell_type": "code",
     "checksum": "f5e17c17a26823fef6bc57848c7016a0",
     "grade": true,
     "grade_id": "problem_3_read_data_tests",
     "locked": true,
     "points": 0.5,
     "schema_version": 3,
     "solution": false,
     "task": false
    }
   },
   "outputs": [],
   "source": [
    "# This test print should print first five rows\n",
    "print(data.head())"
   ]
  },
  {
   "cell_type": "code",
   "execution_count": null,
   "metadata": {
    "deletable": false,
    "editable": false,
    "nbgrader": {
     "cell_type": "code",
     "checksum": "628de9c4e742f662d15a6dffc67394ba",
     "grade": true,
     "grade_id": "problem_3_test_index",
     "locked": true,
     "points": 0.5,
     "schema_version": 3,
     "solution": false,
     "task": false
    }
   },
   "outputs": [],
   "source": [
    "# Check the number of rows in the data frame\n",
    "print(len(data))"
   ]
  },
  {
   "cell_type": "markdown",
   "metadata": {},
   "source": [
    "**2:** Create a variable `selection` and store the data into it covering months starting from January 1988 and up to the end of the year 2018 (last month should be December 2018). "
   ]
  },
  {
   "cell_type": "code",
   "execution_count": null,
   "metadata": {
    "deletable": false,
    "nbgrader": {
     "cell_type": "code",
     "checksum": "0227c329adb51809c63a90c1fcc73667",
     "grade": false,
     "grade_id": "subset",
     "locked": false,
     "schema_version": 3,
     "solution": true,
     "task": false
    }
   },
   "outputs": [],
   "source": [
    "# REPLACE THE ERROR BELOW WITH YOUR OWN CODE\n",
    "raise NotImplementedError()"
   ]
  },
  {
   "cell_type": "code",
   "execution_count": null,
   "metadata": {
    "deletable": false,
    "editable": false,
    "nbgrader": {
     "cell_type": "code",
     "checksum": "038e61f55b052ce972103ae89e48f603",
     "grade": true,
     "grade_id": "problem_3_subset_tests",
     "locked": true,
     "points": 1,
     "schema_version": 3,
     "solution": false
    }
   },
   "outputs": [],
   "source": [
    "# This test print should print first five rows\n",
    "print(selection.head())"
   ]
  },
  {
   "cell_type": "markdown",
   "metadata": {
    "deletable": false,
    "editable": false,
    "nbgrader": {
     "cell_type": "markdown",
     "checksum": "1eb0abfb18e6146f2a7d4da92528fb19",
     "grade": false,
     "grade_id": "cell-0804481faa5e0152",
     "locked": true,
     "schema_version": 3,
     "solution": false
    }
   },
   "source": [
    "**3:** Create four variables (`winter`, `spring`, `summer`, and `fall`) and store rows from the `selection` DataFrame into those variables that meet following criteria: \n",
    "\n",
    "  - **`winter`** DataFrame should cover months from December to February\n",
    "  - **`spring`** DataFrame should cover months from March to May\n",
    "  - **`summer`** DataFrame should cover months from June to August\n",
    "  - **`fall`** DataFrame should cover months from September to November\n",
    "  \n",
    "**Important**: Use lower case naming for the variables.\n",
    "\n",
    "**HINT:**\n",
    "\n",
    "- assuming that you have correctly set a datetime index to your data frame, you can access the month of each time stamp using `selection.index.month`."
   ]
  },
  {
   "cell_type": "code",
   "execution_count": null,
   "metadata": {
    "deletable": false,
    "nbgrader": {
     "cell_type": "code",
     "checksum": "5943cafdb722f182c01fc58875f89808",
     "grade": false,
     "grade_id": "seasons",
     "locked": false,
     "schema_version": 3,
     "solution": true
    }
   },
   "outputs": [],
   "source": [
    "# Create DataFrames and store the data from specified months\n",
    "\n",
    "# REPLACE THE ERROR BELOW WITH YOUR OWN CODE\n",
    "raise NotImplementedError()"
   ]
  },
  {
   "cell_type": "code",
   "execution_count": null,
   "metadata": {
    "deletable": false,
    "editable": false,
    "nbgrader": {
     "cell_type": "code",
     "checksum": "f41d3a2633003850aa03d6b9b2656ed5",
     "grade": true,
     "grade_id": "problem_3_seasons_test1",
     "locked": true,
     "points": 0.5,
     "schema_version": 3,
     "solution": false
    }
   },
   "outputs": [],
   "source": [
    "# These test prints should print first 3 rows of the winter DataFrame\n",
    "print(winter.head(3))"
   ]
  },
  {
   "cell_type": "code",
   "execution_count": null,
   "metadata": {
    "deletable": false,
    "editable": false,
    "nbgrader": {
     "cell_type": "code",
     "checksum": "821ae7cf1976c1cdd11854ee3ff6efc2",
     "grade": true,
     "grade_id": "problem_3_seasons_test2",
     "locked": true,
     "points": 0.5,
     "schema_version": 3,
     "solution": false
    }
   },
   "outputs": [],
   "source": [
    "# These test prints should print first 3 rows of the spring DataFrame\n",
    "print(spring.head(3))"
   ]
  },
  {
   "cell_type": "code",
   "execution_count": null,
   "metadata": {
    "deletable": false,
    "editable": false,
    "nbgrader": {
     "cell_type": "code",
     "checksum": "02f110cf523a2a669bfbf73793e625fa",
     "grade": true,
     "grade_id": "problem_3_seasons_test3",
     "locked": true,
     "points": 0.5,
     "schema_version": 3,
     "solution": false
    }
   },
   "outputs": [],
   "source": [
    "# These test prints should print first 3 rows of the summer DataFrame\n",
    "print(summer.head(3))"
   ]
  },
  {
   "cell_type": "code",
   "execution_count": null,
   "metadata": {
    "deletable": false,
    "editable": false,
    "nbgrader": {
     "cell_type": "code",
     "checksum": "0da16f18d1c266f8e0369970585ad85f",
     "grade": true,
     "grade_id": "problem_3_seasons_test4",
     "locked": true,
     "points": 0.5,
     "schema_version": 3,
     "solution": false
    }
   },
   "outputs": [],
   "source": [
    "# These test prints should print first 3 rows of the fall DataFrame\n",
    "print(fall.head(3))"
   ]
  },
  {
   "cell_type": "markdown",
   "metadata": {},
   "source": [
    "Next we want to aggregate the temperatures anomalies for each year and season: for each season in each year you should have a single mean value. \n",
    "\n",
    "**4:** Create four emplty DataFrames (called `winter_mean`, `spring_mean`, `summer_mean` and `fall_mean`) that should in the end contain the yearly mean Celsius temperatures from different seasons. Hence, you should group the values from the data frames made in the last step 2 (separately for each season) based on year, and calculate the annual mean of each season.\n",
    "\n",
    "**HINTS:**\n",
    "- First, create a new column \"year\" in the seasonal data frames, and group the data based on this column\n",
    "- You can access the year of the original dataframe like this: `DataFrameName.index.year`\n",
    "- First rows of `winter_mean` should look something like this (in case you keep all the columns): \n",
    "\n",
    "```\n",
    "        USAF     TEMP_F    TEMP_C  REF_TEMP_C    DIFF_C\n",
    "year                                                    \n",
    "1988  29740.0  24.331653 -4.260193   -4.567182  0.306990\n",
    "1989  29740.0  29.190170 -1.561017   -4.567182  3.006165\n",
    "1990  29740.0  29.805810 -1.218995   -4.567182  3.348188\n",
    "1991  29740.0  25.711078 -3.493846   -4.567182  1.073337\n",
    "1992  29740.0  30.066271 -1.074294   -4.567182  3.492888\n",
    "```\n",
    "\n",
    "*we will only need `year` and `DIFF_C` for plotting at the end, but it is ok to have all original columns in at this point*\n"
   ]
  },
  {
   "cell_type": "code",
   "execution_count": null,
   "metadata": {
    "deletable": false,
    "nbgrader": {
     "cell_type": "code",
     "checksum": "1be2332d430de0d702c1fb6a70388839",
     "grade": false,
     "grade_id": "aggregate",
     "locked": false,
     "schema_version": 3,
     "solution": true
    }
   },
   "outputs": [],
   "source": [
    "# Calculate yearly means for each season\n",
    "# REPLACE THE ERROR BELOW WITH YOUR OWN CODE\n",
    "raise NotImplementedError()"
   ]
  },
  {
   "cell_type": "code",
   "execution_count": null,
   "metadata": {
    "deletable": false,
    "editable": false,
    "nbgrader": {
     "cell_type": "code",
     "checksum": "d1e715e75740ba576720699f50c037f2",
     "grade": true,
     "grade_id": "problem_3_aggregate_test1",
     "locked": true,
     "points": 0.5,
     "schema_version": 3,
     "solution": false
    }
   },
   "outputs": [],
   "source": [
    "# These test prints should print data from first 5 years of the winter DataFrame\n",
    "print(winter_mean.head())"
   ]
  },
  {
   "cell_type": "code",
   "execution_count": null,
   "metadata": {
    "deletable": false,
    "editable": false,
    "nbgrader": {
     "cell_type": "code",
     "checksum": "5abef9c16041613a8042ee7ba8322721",
     "grade": true,
     "grade_id": "problem_3_aggregate_test2",
     "locked": true,
     "points": 0.5,
     "schema_version": 3,
     "solution": false
    }
   },
   "outputs": [],
   "source": [
    "# These test prints should print data from first 5 years of the spring DataFrame\n",
    "print(spring_mean.head())"
   ]
  },
  {
   "cell_type": "code",
   "execution_count": null,
   "metadata": {
    "deletable": false,
    "editable": false,
    "nbgrader": {
     "cell_type": "code",
     "checksum": "36864c6342ae0d457fa974be414935e0",
     "grade": true,
     "grade_id": "problem_3_aggregate_test3",
     "locked": true,
     "points": 0.5,
     "schema_version": 3,
     "solution": false
    }
   },
   "outputs": [],
   "source": [
    "# These test prints should print data from first 5 years of the summer DataFrame\n",
    "print(summer_mean.head())"
   ]
  },
  {
   "cell_type": "code",
   "execution_count": null,
   "metadata": {
    "deletable": false,
    "editable": false,
    "nbgrader": {
     "cell_type": "code",
     "checksum": "027b323d4baa667b3fed65e3922a50bf",
     "grade": true,
     "grade_id": "problem_3_aggregate_test4",
     "locked": true,
     "points": 0.5,
     "schema_version": 3,
     "solution": false
    }
   },
   "outputs": [],
   "source": [
    "# These test prints should print data from first 5 years of the fall DataFrame\n",
    "print(fall_mean.head())"
   ]
  },
  {
   "cell_type": "markdown",
   "metadata": {},
   "source": [
    "**5:** Create a figure with 4 subplots in the arrangement shown above, labeling axes as needed, with gridlines on, and with a line legend for each panel.\n",
    "\n",
    "**HINTS:**\n",
    "\n",
    "- Create a figure object with 4 subplots before plotting the data\n",
    "- If you want, you can run `plt.style.use('seaborn-whitegrid')`  before creating the figure object to change the style of the plot. For other available styles, see Matplotlib [style sheet reference](https://matplotlib.org/3.1.0/gallery/style_sheets/style_sheets_reference.html).\n",
    "- Look for additional tips in the [Matplotlib documentation](https://matplotlib.org/contents.html) and the hints for this week's exercise on the course page.\n",
    "\n"
   ]
  },
  {
   "cell_type": "markdown",
   "metadata": {},
   "source": [
    "**6:** Save your plot as PNG file into disk with filename `seasonal_temperatures.png` "
   ]
  },
  {
   "cell_type": "code",
   "execution_count": null,
   "metadata": {
    "deletable": false,
    "nbgrader": {
     "cell_type": "code",
     "checksum": "8b011a5882c5691c2657e0868f8cdde0",
     "grade": true,
     "grade_id": "problem_3_plot_seasons",
     "locked": false,
     "points": 2,
     "schema_version": 3,
     "solution": true
    }
   },
   "outputs": [],
   "source": [
    "# REPLACE THE ERROR BELOW WITH YOUR OWN CODE\n",
    "raise NotImplementedError()\n",
    "\n",
    "#Save the figure\n",
    "# REPLACE THE ERROR BELOW WITH YOUR OWN CODE\n",
    "raise NotImplementedError()"
   ]
  },
  {
   "cell_type": "markdown",
   "metadata": {
    "deletable": false,
    "editable": false,
    "nbgrader": {
     "cell_type": "markdown",
     "checksum": "27a13db36821427da3ab0b2f8a710616",
     "grade": false,
     "grade_id": "cell-225361dde8e24eca",
     "locked": true,
     "schema_version": 3,
     "solution": false
    }
   },
   "source": [
    "Remember to commit your changes to this notebook and the png-file to GitHub! Also, remember to comment your code :)\n",
    "\n",
    "### Done!\n",
    "\n",
    "That's it! Now you can continue into problem 4."
   ]
  },
  {
   "cell_type": "markdown",
   "metadata": {},
   "source": [
    "# Problem 4 - Bar-plot for seasonal temperature anomalies (6 points)\n",
    "\n",
    "In this problem the aim is to create a single plot where the temperature anomalies for different seasons for one year are visualized with barplot. The result figure should look something like following where temperatures above 0 degrees are plotted with red color, and the temperatures below or equal to zero degree are plotted with blue color:\n",
    "\n",
    "![seasonal anomalies](img/seasonal_anomalies_bar.png)\n",
    "\n",
    "Below, you can find suggested steps for generating this plot for year 2012.\n",
    "\n",
    "## Steps\n",
    "\n",
    "**1:** Create four variables `wi`, `sp`, `su`, and `fa` that corresponds to different seasons (namely winter, spring, summer and fall). You should store for each of these variables the **mean anomaly temperature** for each season of the year **2012** (one floating point value per season).  \n",
    "\n",
    "**Hint:** You can continue working with the same data frames created in Problem 3 (i.e. winter_mean, spring_mean, etc. --> column `DIFF_C`)."
   ]
  },
  {
   "cell_type": "code",
   "execution_count": null,
   "metadata": {
    "deletable": false,
    "nbgrader": {
     "cell_type": "code",
     "checksum": "aaf7ad1fd268a2fd3874bb8a9a15d134",
     "grade": false,
     "grade_id": "cell-c29c2dac72d0cbe7",
     "locked": false,
     "schema_version": 3,
     "solution": true
    }
   },
   "outputs": [],
   "source": [
    "# Get temperature anomaly for each season for year 2012:\n",
    "# REPLACE THE ERROR BELOW WITH YOUR OWN CODE\n",
    "raise NotImplementedError()"
   ]
  },
  {
   "cell_type": "markdown",
   "metadata": {
    "deletable": false,
    "editable": false,
    "nbgrader": {
     "cell_type": "markdown",
     "checksum": "9d3c8f5acf5024a4414cec53f3361208",
     "grade": false,
     "grade_id": "cell-37b90bfe6cb4fe92",
     "locked": true,
     "schema_version": 3,
     "solution": false
    }
   },
   "source": [
    "**2:** Create a list called `seasons` with four values: `wi`, `sp`, `su` and `fa`. "
   ]
  },
  {
   "cell_type": "code",
   "execution_count": null,
   "metadata": {
    "deletable": false,
    "nbgrader": {
     "cell_type": "code",
     "checksum": "644dde6c1fc533ca9d753a5af9e90136",
     "grade": false,
     "grade_id": "seasons_list",
     "locked": false,
     "schema_version": 3,
     "solution": true
    }
   },
   "outputs": [],
   "source": [
    "# REPLACE THE ERROR BELOW WITH YOUR OWN CODE\n",
    "raise NotImplementedError()"
   ]
  },
  {
   "cell_type": "code",
   "execution_count": null,
   "metadata": {
    "deletable": false,
    "editable": false,
    "jupyter": {
     "outputs_hidden": false
    },
    "nbgrader": {
     "cell_type": "code",
     "checksum": "6904e5a260014ddb28cde4679391331e",
     "grade": true,
     "grade_id": "problem_4_seasons_list_test",
     "locked": true,
     "points": 0.5,
     "schema_version": 3,
     "solution": false
    }
   },
   "outputs": [],
   "source": [
    "# This test print should print four floating point values in a list:\n",
    "print(seasons)\n"
   ]
  },
  {
   "cell_type": "markdown",
   "metadata": {
    "deletable": false,
    "editable": false,
    "nbgrader": {
     "cell_type": "markdown",
     "checksum": "1b827de5dc3590f53d26e0b2e72de83b",
     "grade": false,
     "grade_id": "cell-2878a64c05887534",
     "locked": true,
     "schema_version": 3,
     "solution": false
    }
   },
   "source": [
    "**3:** Visualize the seasonal anomalies as a barplot.\n",
    "\n",
    "Here are suggested steps for creating the plot:\n",
    "\n",
    "- Initialize the **figure** and **ax** with Matplotlib's `plt.subplots()` -function. You do not need pass any parameters (**[see hints](https://geo-python.github.io/2018/lessons/L7/exercise-7.html)**).\n",
    "\n",
    "- Use **`enumerate()`** -function (**[see hints](https://geo-python.github.io/site/lessons/L7/exercise-7.html)**) to (for) loop over the values in **seasons** list. When looping, you should store the list value into a variable called **`season`**. By using `enumerate()` -function you will, in addition to the list value, also get the index. \n",
    "\n",
    "\n",
    "- **Inside the loop** (for each season): \n",
    "    - Create a variable called `color`, and assign value **`\"red\"`** if the value in `season` is **higher than 0**, and **`\"blue\"`** in all other cases. \n",
    "    - Visualize the data with bar plot by using the Matplotlib's `bar()` -function. The **x** -parameter should be the **index** of the `seasons` list (the one you are iterating over), and the **y** -parameter should be the temperature value from **`season`** -variable, and the parameter **`width`** should be **`1.0`**.\n",
    "\n",
    "\n",
    "- **After the loop** (for the whole figure): \n",
    "    - Specify the value limits for y-axis: lower boundary should be **-6** and the higher boundary should be **6**. You should use the `set_ylim()` -function to do this (see lesson materials). \n",
    "    - Remove the x-axis ticks from the plot with command (you can just copy-paste this): `ax.set_xticks([], [])`\n",
    "    - Give intuitive annotations for each bar: use `text()` -function to add following texts to specified positions:\n",
    "        - Winter: at position `x=0` and `y=-5.5` add text **`Winter`**\n",
    "        - Spring: at position `x=1` and `y=-5.5` add text **`Spring`**\n",
    "        - Summer: at position `x=2` and `y=-5.5` add text **`Summer`**\n",
    "        - Fall: at position `x=3` and `y=-5.5` add text **`Fall`**\n",
    "    - Add title **`Seasonal weather anomalies in Helsinki`** to the plot. You can use parameter `fontsize=16` to adjust the fontsize to be the same as in example figure. \n",
    "    - Add xlabel **`2012`** to the plot. You can use parameter `fontsize=16` to adjust the fontsize to be the same as in example figure. \n",
    "    - Add ylabel **`Difference from long-term\\naverage temperature (Celsius)`** to the plot. You can use parameter `fontsize=14` to adjust the fontsize to be the same as in example figure. \n",
    "    - Save the figure into disk with name `seasonal_anomalies_in_2012.png`\n",
    "  \n",
    "     \n",
    "       "
   ]
  },
  {
   "cell_type": "code",
   "execution_count": null,
   "metadata": {
    "deletable": false,
    "jupyter": {
     "outputs_hidden": false
    },
    "nbgrader": {
     "cell_type": "code",
     "checksum": "1b1a75e25c79b7364a3bce94fe9db2aa",
     "grade": true,
     "grade_id": "problem_4_anomaly_bar_plot",
     "locked": false,
     "points": 4.5,
     "schema_version": 3,
     "solution": true
    }
   },
   "outputs": [],
   "source": [
    "# REPLACE THE ERROR BELOW WITH YOUR OWN CODE\n",
    "raise NotImplementedError()"
   ]
  },
  {
   "cell_type": "markdown",
   "metadata": {},
   "source": [
    "4: Upload the figure and the notebook into your personal GitHub repository.\n",
    "\n",
    "### Done!\n",
    "\n",
    "That's it! Now you can continue into problem 5 (below)."
   ]
  },
  {
   "cell_type": "markdown",
   "metadata": {
    "deletable": false,
    "editable": false,
    "nbgrader": {
     "cell_type": "markdown",
     "checksum": "7061a09dc567418fd3638026c3406664",
     "grade": false,
     "grade_id": "cell-9f29d11ba5df8c3d",
     "locked": true,
     "schema_version": 3,
     "solution": false
    }
   },
   "source": [
    "## Problem 5 - Seasonal temperature anomalies, animated (5 points)\n",
    "\n",
    "The goal for this problem is to plot seasonal temperature anomalies for yeach year and for each season from 1988 to 2018:\n",
    "\n",
    "![temp_anomaly_animation.gif](img/temperature_anomaly_animation.gif)<br/>\n",
    "*You can generate the GIF in optional problem 6!*\n",
    "\n",
    "**The solution from Problem 4 gives a good starting for this problem**, as now we are producing many similar plots and automating the generation of those visualizations by looping over different years. The instructions repeats quite many of the steps from Problem 4, but **they are not completely identical to the solution in problem 4!**. \n",
    "\n",
    "## Steps\n",
    "\n",
    "First, you might want to copy and paste your solution from Problem 4 into the cell below and start modifying that code:\n",
    "\n",
    " - Create variables new variables at the top of the code block:\n",
    "     - `start_year` that should contain the first year in the observation period (1988)\n",
    "     - `stop_year` that should contain the last year in the observation period + 1 (2019) \n",
    "     \n",
    " - Create a `for` loop for repeating the process for each year from 1988 to 2018:\n",
    "     - You can use the `range()` function and `start_year` and `stop_year` to define the correct range. \n",
    "     \n",
    " \n",
    " - **For yeach year** (inside the loop, use code for a single year from problem 4):\n",
    "     - Create variables `wi`, `sp`, `su`, and `fa` that corresponds to different seasons (namely winter, spring, summer and fall) and store the corresponding **mean anomaly temperature** for each season of the **`year`** that you are looping over. \n",
    "     - Create a list called `seasons` with four values: `wi`, `sp`, `su` and `fa`. \n",
    "     - Initialize the **figure** and **ax** with Matplotlib's `plt.subplots()` -function. \n",
    "     - For each season, visualize the data (loop over the values in **seasons** using **`enumerate()`** like you did in problem 4):\n",
    "         - **Set colors, Option 1:** use red for temperatures greater than zero, and blue for zero and below (similarly as in problem 4)\n",
    "         - **Set colors, Option 2:** (totally optional!) using [hex colors](https://en.wikipedia.org/wiki/Web_colors#Hex_triplet) and the following criteria:\n",
    "             - if `season` value is **higher than 3** the color of the bar is `'#b2182b'` \n",
    "             - if `season` value is **higher than 2 and below or equal to 3** the color of the bar is `'#ef8a62'`\n",
    "             - if `season` value is **higher or equal to 0 and below or equal to 2** the color of the bar is `'#fddbc7'`\n",
    "             - if `season` value is **lower or equal to -3** the color of the bar is `'#2166ac'`\n",
    "             - if `season` value is **lower or equal to -2 and higher than -3** the color of the bar is `'#67a9cf'\n",
    "             - if `season` value is **lower than 0 and higher than -2** the color of the bar is `'#d1e5f0'`\n",
    "         - **Plot the data** (same as problem 4):\n",
    "             - Visualize the data using the Matplotlib's `bar()` -function. The **x** -parameter should be the **index** of the `seasons` list (the one you are iterating over), and the **y** -parameter should be the temperature value from **`season`** -variable, and the parameter **`width`** should be **`1.0`**.\n",
    "\n",
    "          \n",
    "  - **After looping yeach season (i.e. back to first-level loop for one year)**: \n",
    "      - Specify the value limits for y-axis: lower boundary should be **-6** and the higher boundary should be **6**. You should use the `set_ylim()` -function to do this. \n",
    "      - Remove the x-axis ticks from the plot with command: `ax.set_xticks([], [])`\n",
    "      - Annotate the bars: use `text()` -function to add following texts to specified positions:\n",
    "          - Winter: at position `x=0` and `y=-5.5` add text **`Winter`**\n",
    "          - Spring: at position `x=1` and `y=-5.5` add text **`Spring`**\n",
    "          - Summer: at position `x=2` and `y=-5.5` add text **`Summer`**\n",
    "          - Fall: at position `x=3` and `y=-5.5` add text **`Fall`**\n",
    "      - Add title **`Seasonal weather anomalies in Helsinki`** to the plot, `fontsize=16`.\n",
    "      - Add xlabel according to the **`year`** you are plotting, `fontsize=16`.\n",
    "      - Add ylabel **`Difference from long-term\\naverage temperature (Celsius)`** to the plot, `fontsize=14`.\n",
    "      - Create a variable called **`outfp`** and store the name of output file into it following formula `seasonal_anomalies_in_YEARX.png` where the YEARX should be replaced with the year you are iterating over.\n",
    "      - **note:** it might be a good idea to create a new folder, such as `figures` into your repository, and define the output filepath as: `figures/seasonal_anomalies_in_YEARX.png`!\n",
    "      - Save the figure into disk using the filepath you specified."
   ]
  },
  {
   "cell_type": "code",
   "execution_count": null,
   "metadata": {
    "deletable": false,
    "jupyter": {
     "outputs_hidden": false
    },
    "nbgrader": {
     "cell_type": "code",
     "checksum": "4e480b1bad928f15228819321e602d98",
     "grade": true,
     "grade_id": "animation_bar_plots",
     "locked": false,
     "points": 5,
     "schema_version": 3,
     "solution": true
    }
   },
   "outputs": [],
   "source": [
    "# REPLACE THE ERROR BELOW WITH YOUR OWN CODE\n",
    "raise NotImplementedError()"
   ]
  },
  {
   "cell_type": "markdown",
   "metadata": {},
   "source": [
    "Remember to commit all the figures and this notebook to your own personal GitHub repository. \n",
    "\n",
    "## Done!\n",
    "\n",
    "That's it now you have successfully programmed a process where you visualize data automatically for many years! Pretty cool isn't it! \n",
    "\n",
    "As a next (optional) step, you can continue to [Problem 6](Exercise-7-problem-6.ipynb) to generate a GIF out of the image files. "
   ]
  }
 ],
 "metadata": {
  "kernelspec": {
   "display_name": "Python 3",
   "language": "python",
   "name": "python3"
  },
  "language_info": {
   "codemirror_mode": {
    "name": "ipython",
    "version": 3
   },
   "file_extension": ".py",
   "mimetype": "text/x-python",
   "name": "python",
   "nbconvert_exporter": "python",
   "pygments_lexer": "ipython3",
   "version": "3.7.4"
  }
 },
 "nbformat": 4,
 "nbformat_minor": 4
}
