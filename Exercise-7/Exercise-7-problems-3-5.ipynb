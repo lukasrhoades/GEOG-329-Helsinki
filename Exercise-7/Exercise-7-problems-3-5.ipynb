{
 "cells": [
  {
   "cell_type": "markdown",
   "metadata": {},
   "source": [
    "# Exercise 7 - Problems 3-5 (18 points in total)"
   ]
  },
  {
   "cell_type": "markdown",
   "metadata": {},
   "source": [
    "## Problem 3 - Seasonal temperature anomalies, visualized (8 points)\n",
    "\n",
    "\n",
    "![seasonal_anomalies.png](img/seasonal_anomalies.png)\n",
    "\n",
    "For Problem 3, the goal is to visualize temperature anomalies for each season (Winter, Spring, Summer, Fall) over a thirty-year period (1988-2018) in four subplots.\n",
    "\n",
    "\n",
    "### Steps\n",
    "\n",
    "\n",
    "**1:** Read in the input data `data/helsinki-vantaa.csv` the same way you did in problem 2. Remember to parse dates from column `DATE`!"
   ]
  },
  {
   "cell_type": "code",
   "execution_count": 3,
   "metadata": {
    "deletable": false,
    "nbgrader": {
     "cell_type": "code",
     "checksum": "151de7bc9173c1a268bd1a031699dab0",
     "grade": false,
     "grade_id": "read_data",
     "locked": false,
     "schema_version": 3,
     "solution": true
    }
   },
   "outputs": [],
   "source": [
    "# REPLACE THE ERROR BELOW WITH YOUR OWN CODE\n",
    "import pandas as pd\n",
    "data = pd.read_csv(\n",
    "    \"data/helsinki-vantaa.csv\",\n",
    "    sep=\",\",\n",
    "    parse_dates=[\"DATE\"],\n",
    "    index_col=\"DATE\"\n",
    ")\n",
    "data.sort_index(inplace=True)  # Fix date order"
   ]
  },
  {
   "cell_type": "code",
   "execution_count": 4,
   "metadata": {
    "deletable": false,
    "editable": false,
    "nbgrader": {
     "cell_type": "code",
     "checksum": "f5e17c17a26823fef6bc57848c7016a0",
     "grade": true,
     "grade_id": "problem_3_read_data_tests",
     "locked": true,
     "points": 0.5,
     "schema_version": 3,
     "solution": false,
     "task": false
    }
   },
   "outputs": [
    {
     "name": "stdout",
     "output_type": "stream",
     "text": [
      "               USAF     TEMP_F    TEMP_C  REF_TEMP_C    DIFF_C\n",
      "DATE                                                          \n",
      "1952-01-01  29740.0  28.347826 -2.028986   -4.936650  2.907665\n",
      "1952-02-01  29740.0  24.910714 -3.938492   -5.656795  1.718303\n",
      "1952-03-01  29740.0  14.319328 -9.822596   -1.881240 -7.941355\n",
      "1952-04-01  29740.0  39.364407  4.091337    3.927530  0.163807\n",
      "1952-05-01  29740.0  44.932773  7.184874   10.421878 -3.237004\n"
     ]
    }
   ],
   "source": [
    "# This test print should print first five rows\n",
    "print(data.head())"
   ]
  },
  {
   "cell_type": "code",
   "execution_count": 5,
   "metadata": {
    "deletable": false,
    "editable": false,
    "nbgrader": {
     "cell_type": "code",
     "checksum": "628de9c4e742f662d15a6dffc67394ba",
     "grade": true,
     "grade_id": "problem_3_test_index",
     "locked": true,
     "points": 0.5,
     "schema_version": 3,
     "solution": false,
     "task": false
    }
   },
   "outputs": [
    {
     "name": "stdout",
     "output_type": "stream",
     "text": [
      "706\n"
     ]
    }
   ],
   "source": [
    "# Check the number of rows in the data frame\n",
    "print(len(data))"
   ]
  },
  {
   "cell_type": "markdown",
   "metadata": {},
   "source": [
    "**2:** Create a variable `selection` and store the data into it covering months starting from January 1988 and up to the end of the year 2018 (last month should be December 2018). "
   ]
  },
  {
   "cell_type": "code",
   "execution_count": 7,
   "metadata": {
    "deletable": false,
    "nbgrader": {
     "cell_type": "code",
     "checksum": "0227c329adb51809c63a90c1fcc73667",
     "grade": false,
     "grade_id": "subset",
     "locked": false,
     "schema_version": 3,
     "solution": true,
     "task": false
    }
   },
   "outputs": [],
   "source": [
    "# REPLACE THE ERROR BELOW WITH YOUR OWN CODE\n",
    "selection = data.loc[(data.index >= \"19880101\") & (data.index < \"20190101\")]"
   ]
  },
  {
   "cell_type": "code",
   "execution_count": 8,
   "metadata": {
    "deletable": false,
    "editable": false,
    "nbgrader": {
     "cell_type": "code",
     "checksum": "038e61f55b052ce972103ae89e48f603",
     "grade": true,
     "grade_id": "problem_3_subset_tests",
     "locked": true,
     "points": 1,
     "schema_version": 3,
     "solution": false
    }
   },
   "outputs": [
    {
     "name": "stdout",
     "output_type": "stream",
     "text": [
      "               USAF     TEMP_F     TEMP_C  REF_TEMP_C    DIFF_C\n",
      "DATE                                                           \n",
      "1988-01-01  29740.0  27.404003  -2.553332   -4.936650  2.383318\n",
      "1988-02-01  29740.0  24.830299  -3.983167   -5.656795  1.673628\n",
      "1988-03-01  29740.0  26.399381  -3.111455   -1.881240 -1.230215\n",
      "1988-04-01  29740.0  34.909643   1.616468    3.927530 -2.311061\n",
      "1988-05-01  29740.0  53.832024  12.128902   10.421878  1.707024\n"
     ]
    }
   ],
   "source": [
    "# This test print should print first five rows\n",
    "print(selection.head())"
   ]
  },
  {
   "cell_type": "markdown",
   "metadata": {
    "deletable": false,
    "editable": false,
    "nbgrader": {
     "cell_type": "markdown",
     "checksum": "1eb0abfb18e6146f2a7d4da92528fb19",
     "grade": false,
     "grade_id": "cell-0804481faa5e0152",
     "locked": true,
     "schema_version": 3,
     "solution": false
    }
   },
   "source": [
    "**3:** Create four variables (`winter`, `spring`, `summer`, and `fall`) and store rows from the `selection` DataFrame into those variables that meet following criteria: \n",
    "\n",
    "  - **`winter`** DataFrame should cover months from December to February\n",
    "  - **`spring`** DataFrame should cover months from March to May\n",
    "  - **`summer`** DataFrame should cover months from June to August\n",
    "  - **`fall`** DataFrame should cover months from September to November\n",
    "  \n",
    "**Important**: Use lower case naming for the variables.\n",
    "\n",
    "**HINT:**\n",
    "\n",
    "- assuming that you have correctly set a datetime index to your data frame, you can access the month of each time stamp using `selection.index.month`."
   ]
  },
  {
   "cell_type": "code",
   "execution_count": 10,
   "metadata": {
    "deletable": false,
    "nbgrader": {
     "cell_type": "code",
     "checksum": "5943cafdb722f182c01fc58875f89808",
     "grade": false,
     "grade_id": "seasons",
     "locked": false,
     "schema_version": 3,
     "solution": true
    }
   },
   "outputs": [],
   "source": [
    "# Create DataFrames and store the data from specified months\n",
    "\n",
    "# REPLACE THE ERROR BELOW WITH YOUR OWN CODE\n",
    "winter = selection.loc[(selection.index.month == 12) | (selection.index.month == 1) | (selection.index.month == 2)]\n",
    "spring = selection.loc[(selection.index.month == 3) | (selection.index.month == 4) | (selection.index.month == 5)]\n",
    "summer = selection.loc[(selection.index.month == 6) | (selection.index.month == 7) | (selection.index.month == 8)]\n",
    "fall = selection.loc[(selection.index.month == 9) | (selection.index.month == 10) | (selection.index.month == 11)]"
   ]
  },
  {
   "cell_type": "code",
   "execution_count": 11,
   "metadata": {
    "deletable": false,
    "editable": false,
    "nbgrader": {
     "cell_type": "code",
     "checksum": "f41d3a2633003850aa03d6b9b2656ed5",
     "grade": true,
     "grade_id": "problem_3_seasons_test1",
     "locked": true,
     "points": 0.5,
     "schema_version": 3,
     "solution": false
    }
   },
   "outputs": [
    {
     "name": "stdout",
     "output_type": "stream",
     "text": [
      "               USAF     TEMP_F    TEMP_C  REF_TEMP_C    DIFF_C\n",
      "DATE                                                          \n",
      "1988-01-01  29740.0  27.404003 -2.553332   -4.936650  2.383318\n",
      "1988-02-01  29740.0  24.830299 -3.983167   -5.656795  1.673628\n",
      "1988-12-01  29740.0  20.760658 -6.244079   -3.108102 -3.135977\n"
     ]
    }
   ],
   "source": [
    "# These test prints should print first 3 rows of the winter DataFrame\n",
    "print(winter.head(3))"
   ]
  },
  {
   "cell_type": "code",
   "execution_count": 12,
   "metadata": {
    "deletable": false,
    "editable": false,
    "nbgrader": {
     "cell_type": "code",
     "checksum": "821ae7cf1976c1cdd11854ee3ff6efc2",
     "grade": true,
     "grade_id": "problem_3_seasons_test2",
     "locked": true,
     "points": 0.5,
     "schema_version": 3,
     "solution": false
    }
   },
   "outputs": [
    {
     "name": "stdout",
     "output_type": "stream",
     "text": [
      "               USAF     TEMP_F     TEMP_C  REF_TEMP_C    DIFF_C\n",
      "DATE                                                           \n",
      "1988-03-01  29740.0  26.399381  -3.111455   -1.881240 -1.230215\n",
      "1988-04-01  29740.0  34.909643   1.616468    3.927530 -2.311061\n",
      "1988-05-01  29740.0  53.832024  12.128902   10.421878  1.707024\n"
     ]
    }
   ],
   "source": [
    "# These test prints should print first 3 rows of the spring DataFrame\n",
    "print(spring.head(3))"
   ]
  },
  {
   "cell_type": "code",
   "execution_count": 13,
   "metadata": {
    "deletable": false,
    "editable": false,
    "nbgrader": {
     "cell_type": "code",
     "checksum": "02f110cf523a2a669bfbf73793e625fa",
     "grade": true,
     "grade_id": "problem_3_seasons_test3",
     "locked": true,
     "points": 0.5,
     "schema_version": 3,
     "solution": false
    }
   },
   "outputs": [
    {
     "name": "stdout",
     "output_type": "stream",
     "text": [
      "               USAF     TEMP_F     TEMP_C  REF_TEMP_C    DIFF_C\n",
      "DATE                                                           \n",
      "1988-06-01  29740.0  60.769667  15.983149   14.578880  1.404269\n",
      "1988-07-01  29740.0  67.098408  19.499116   17.639779  1.859337\n",
      "1988-08-01  29740.0  58.300891  14.611606   15.814663 -1.203057\n"
     ]
    }
   ],
   "source": [
    "# These test prints should print first 3 rows of the summer DataFrame\n",
    "print(summer.head(3))"
   ]
  },
  {
   "cell_type": "code",
   "execution_count": 14,
   "metadata": {
    "deletable": false,
    "editable": false,
    "nbgrader": {
     "cell_type": "code",
     "checksum": "0da16f18d1c266f8e0369970585ad85f",
     "grade": true,
     "grade_id": "problem_3_seasons_test4",
     "locked": true,
     "points": 0.5,
     "schema_version": 3,
     "solution": false
    }
   },
   "outputs": [
    {
     "name": "stdout",
     "output_type": "stream",
     "text": [
      "               USAF     TEMP_F     TEMP_C  REF_TEMP_C    DIFF_C\n",
      "DATE                                                           \n",
      "1988-09-01  29740.0  52.449266  11.360703   10.680689  0.680014\n",
      "1988-10-01  29740.0  40.596987   4.776104    5.661539 -0.885436\n",
      "1988-11-01  29740.0  26.090164  -3.283242    0.456494 -3.739737\n"
     ]
    }
   ],
   "source": [
    "# These test prints should print first 3 rows of the fall DataFrame\n",
    "print(fall.head(3))"
   ]
  },
  {
   "cell_type": "markdown",
   "metadata": {},
   "source": [
    "Next we want to aggregate the temperatures anomalies for each year and season: for each season in each year you should have a single mean value. \n",
    "\n",
    "**4:** Create four emplty DataFrames (called `winter_mean`, `spring_mean`, `summer_mean` and `fall_mean`) that should in the end contain the yearly mean Celsius temperatures from different seasons. Hence, you should group the values from the data frames made in the last step 2 (separately for each season) based on year, and calculate the annual mean of each season.\n",
    "\n",
    "**HINTS:**\n",
    "- First, create a new column \"year\" in the seasonal data frames, and group the data based on this column\n",
    "- You can access the year of the original dataframe like this: `DataFrameName.index.year`\n",
    "- First rows of `winter_mean` should look something like this (in case you keep all the columns): \n",
    "\n",
    "```\n",
    "        USAF     TEMP_F    TEMP_C  REF_TEMP_C    DIFF_C\n",
    "year                                                    \n",
    "1988  29740.0  24.331653 -4.260193   -4.567182  0.306990\n",
    "1989  29740.0  29.190170 -1.561017   -4.567182  3.006165\n",
    "1990  29740.0  29.805810 -1.218995   -4.567182  3.348188\n",
    "1991  29740.0  25.711078 -3.493846   -4.567182  1.073337\n",
    "1992  29740.0  30.066271 -1.074294   -4.567182  3.492888\n",
    "```\n",
    "\n",
    "*we will only need `year` and `DIFF_C` for plotting at the end, but it is ok to have all original columns in at this point*\n"
   ]
  },
  {
   "cell_type": "code",
   "execution_count": 35,
   "metadata": {
    "deletable": false,
    "nbgrader": {
     "cell_type": "code",
     "checksum": "1be2332d430de0d702c1fb6a70388839",
     "grade": false,
     "grade_id": "aggregate",
     "locked": false,
     "schema_version": 3,
     "solution": true
    }
   },
   "outputs": [],
   "source": [
    "# Calculate yearly means for each season\n",
    "# REPLACE THE ERROR BELOW WITH YOUR OWN CODE\n",
    "winter.loc[:,\"year\"] = winter.index.year\n",
    "winter_mean = winter.groupby(\"year\")[\"DIFF_C\"].mean()\n",
    "\n",
    "spring.loc[:,\"year\"] = spring.index.year\n",
    "spring_mean = spring.groupby(\"year\")[\"DIFF_C\"].mean()\n",
    "\n",
    "summer.loc[:,\"year\"] = summer.index.year\n",
    "summer_mean = summer.groupby(\"year\")[\"DIFF_C\"].mean()\n",
    "\n",
    "fall.loc[:,\"year\"] = fall.index.year\n",
    "fall_mean = fall.groupby(\"year\")[\"DIFF_C\"].mean()"
   ]
  },
  {
   "cell_type": "code",
   "execution_count": 37,
   "metadata": {
    "deletable": false,
    "editable": false,
    "nbgrader": {
     "cell_type": "code",
     "checksum": "d1e715e75740ba576720699f50c037f2",
     "grade": true,
     "grade_id": "problem_3_aggregate_test1",
     "locked": true,
     "points": 0.5,
     "schema_version": 3,
     "solution": false
    }
   },
   "outputs": [
    {
     "name": "stdout",
     "output_type": "stream",
     "text": [
      "year\n",
      "1988    0.306990\n",
      "1989    3.006165\n",
      "1990    3.348188\n",
      "1991    1.073337\n",
      "1992    3.492888\n",
      "Name: DIFF_C, dtype: float64\n"
     ]
    }
   ],
   "source": [
    "# These test prints should print data from first 5 years of the winter DataFrame\n",
    "print(winter_mean.head())"
   ]
  },
  {
   "cell_type": "code",
   "execution_count": 39,
   "metadata": {
    "deletable": false,
    "editable": false,
    "nbgrader": {
     "cell_type": "code",
     "checksum": "5abef9c16041613a8042ee7ba8322721",
     "grade": true,
     "grade_id": "problem_3_aggregate_test2",
     "locked": true,
     "points": 0.5,
     "schema_version": 3,
     "solution": false
    }
   },
   "outputs": [
    {
     "name": "stdout",
     "output_type": "stream",
     "text": [
      "year\n",
      "1988   -0.611417\n",
      "1989    1.863204\n",
      "1990    1.735839\n",
      "1991   -0.455782\n",
      "1992    0.649746\n",
      "Name: DIFF_C, dtype: float64\n"
     ]
    }
   ],
   "source": [
    "# These test prints should print data from first 5 years of the spring DataFrame\n",
    "print(spring_mean.head())"
   ]
  },
  {
   "cell_type": "code",
   "execution_count": 41,
   "metadata": {
    "deletable": false,
    "editable": false,
    "nbgrader": {
     "cell_type": "code",
     "checksum": "36864c6342ae0d457fa974be414935e0",
     "grade": true,
     "grade_id": "problem_3_aggregate_test3",
     "locked": true,
     "points": 0.5,
     "schema_version": 3,
     "solution": false
    }
   },
   "outputs": [
    {
     "name": "stdout",
     "output_type": "stream",
     "text": [
      "year\n",
      "1988    0.686849\n",
      "1989    0.038227\n",
      "1990   -0.669252\n",
      "1991   -0.209994\n",
      "1992   -0.050063\n",
      "Name: DIFF_C, dtype: float64\n"
     ]
    }
   ],
   "source": [
    "# These test prints should print data from first 5 years of the summer DataFrame\n",
    "print(summer_mean.head())"
   ]
  },
  {
   "cell_type": "code",
   "execution_count": 43,
   "metadata": {
    "deletable": false,
    "editable": false,
    "nbgrader": {
     "cell_type": "code",
     "checksum": "027b323d4baa667b3fed65e3922a50bf",
     "grade": true,
     "grade_id": "problem_3_aggregate_test4",
     "locked": true,
     "points": 0.5,
     "schema_version": 3,
     "solution": false
    }
   },
   "outputs": [
    {
     "name": "stdout",
     "output_type": "stream",
     "text": [
      "year\n",
      "1988   -1.315053\n",
      "1989    0.231225\n",
      "1990   -1.203562\n",
      "1991    0.727946\n",
      "1992   -1.803255\n",
      "Name: DIFF_C, dtype: float64\n"
     ]
    }
   ],
   "source": [
    "# These test prints should print data from first 5 years of the fall DataFrame\n",
    "print(fall_mean.head())"
   ]
  },
  {
   "cell_type": "markdown",
   "metadata": {},
   "source": [
    "**5:** Create a figure with 4 subplots in the arrangement shown above, labeling axes as needed, with gridlines on, and with a line legend for each panel.\n",
    "\n",
    "**HINTS:**\n",
    "\n",
    "- Create a figure object with 4 subplots before plotting the data\n",
    "- If you want, you can run `plt.style.use('seaborn-whitegrid')`  before creating the figure object to change the style of the plot. For other available styles, see Matplotlib [style sheet reference](https://matplotlib.org/3.1.0/gallery/style_sheets/style_sheets_reference.html).\n",
    "- Look for additional tips in the [Matplotlib documentation](https://matplotlib.org/contents.html) and the hints for this week's exercise on the course page.\n",
    "\n"
   ]
  },
  {
   "cell_type": "markdown",
   "metadata": {},
   "source": [
    "**6:** Save your plot as PNG file into disk with filename `seasonal_temperatures.png` "
   ]
  },
  {
   "cell_type": "code",
   "execution_count": 77,
   "metadata": {
    "deletable": false,
    "nbgrader": {
     "cell_type": "code",
     "checksum": "8b011a5882c5691c2657e0868f8cdde0",
     "grade": true,
     "grade_id": "problem_3_plot_seasons",
     "locked": false,
     "points": 2,
     "schema_version": 3,
     "solution": true
    }
   },
   "outputs": [
    {
     "data": {
      "image/png": "[encoded data removed]",
      "text/plain": [
       "<Figure size 1200x800 with 4 Axes>"
      ]
     },
     "metadata": {},
     "output_type": "display_data"
    }
   ],
   "source": [
    "# REPLACE THE ERROR BELOW WITH YOUR OWN CODE\n",
    "# Create figure object with four subplots\n",
    "import matplotlib.pyplot as plt\n",
    "\n",
    "plt.style.use(\"seaborn-v0_8-whitegrid\")  # Updated style name\n",
    "fig, axs = plt.subplots(nrows=2, ncols=2, figsize=(12, 8))\n",
    "\n",
    "# Determine y-axis limits\n",
    "min_temp = min(\n",
    "    winter_mean.min(), spring_mean.min(), summer_mean.min(), fall_mean.min()\n",
    ") - 2.5  # Padding of 2.5\n",
    "max_temp = max(\n",
    "    winter_mean.max(), spring_mean.max(), summer_mean.max(), fall_mean.max()\n",
    ") + 2.5\n",
    "\n",
    "# Plot the seasonal data\n",
    "winter_mean.plot(\n",
    "    ax=axs[0][0],\n",
    "    c=\"blue\",\n",
    "    style=\"-\",\n",
    "    lw=1.5,\n",
    "    ylim=[min_temp, max_temp],\n",
    "    label=\"Winter temperatures\",\n",
    "    xlabel=\"\",\n",
    "    ylabel=\"Temperature [°C]\",\n",
    "    grid=True\n",
    ")\n",
    "spring_mean.plot(\n",
    "    ax=axs[0][1],\n",
    "    c=\"orange\",\n",
    "    style=\":\",\n",
    "    lw=1.5,\n",
    "    ylim=[min_temp, max_temp],\n",
    "    label=\"Spring temperatures\",\n",
    "    xlabel=\"\",\n",
    "    grid=True\n",
    ")\n",
    "summer_mean.plot(\n",
    "    ax=axs[1][0],\n",
    "    c=\"green\",\n",
    "    style=\"--\",\n",
    "    lw=1.5,\n",
    "    ylim=[min_temp, max_temp],\n",
    "    label=\"Summer temperatures\",\n",
    "    xlabel=\"Date\",\n",
    "    ylabel=\"Temperature [°C]\",\n",
    "    grid=True\n",
    ")\n",
    "fall_mean.plot(\n",
    "    ax=axs[1][1],\n",
    "    c=\"brown\",\n",
    "    style=\"-.\",\n",
    "    lw=1.5,\n",
    "    ylim=[min_temp, max_temp],\n",
    "    label=\"Fall temperatures\",\n",
    "    xlabel=\"Date\",\n",
    "    grid=True\n",
    ")\n",
    "\n",
    "# Figure title\n",
    "fig.suptitle(\"1988-2018 Seasonal Temperature Anomalies - Helsinki-Vantaa\")\n",
    "\n",
    "# Enable legend and display figure\n",
    "fig.legend()\n",
    "plt.show()\n",
    "\n",
    "#Save the figure\n",
    "# REPLACE THE ERROR BELOW WITH YOUR OWN CODE\n",
    "fig.savefig(\"season_temperatures.png\")"
   ]
  },
  {
   "cell_type": "markdown",
   "metadata": {
    "deletable": false,
    "editable": false,
    "nbgrader": {
     "cell_type": "markdown",
     "checksum": "27a13db36821427da3ab0b2f8a710616",
     "grade": false,
     "grade_id": "cell-225361dde8e24eca",
     "locked": true,
     "schema_version": 3,
     "solution": false
    }
   },
   "source": [
    "Remember to commit your changes to this notebook and the png-file to GitHub! Also, remember to comment your code :)\n",
    "\n",
    "### Done!\n",
    "\n",
    "That's it! Now you can continue into problem 4."
   ]
  },
  {
   "cell_type": "markdown",
   "metadata": {},
   "source": [
    "# Problem 4 - Bar-plot for seasonal temperature anomalies (6 points)\n",
    "\n",
    "In this problem the aim is to create a single plot where the temperature anomalies for different seasons for one year are visualized with barplot. The result figure should look something like following where temperatures above 0 degrees are plotted with red color, and the temperatures below or equal to zero degree are plotted with blue color:\n",
    "\n",
    "![seasonal anomalies](img/seasonal_anomalies_bar.png)\n",
    "\n",
    "Below, you can find suggested steps for generating this plot for year 2012.\n",
    "\n",
    "## Steps\n",
    "\n",
    "**1:** Create four variables `wi`, `sp`, `su`, and `fa` that corresponds to different seasons (namely winter, spring, summer and fall). You should store for each of these variables the **mean anomaly temperature** for each season of the year **2012** (one floating point value per season).  \n",
    "\n",
    "**Hint:** You can continue working with the same data frames created in Problem 3 (i.e. winter_mean, spring_mean, etc. --> column `DIFF_C`)."
   ]
  },
  {
   "cell_type": "code",
   "execution_count": 121,
   "metadata": {
    "deletable": false,
    "nbgrader": {
     "cell_type": "code",
     "checksum": "aaf7ad1fd268a2fd3874bb8a9a15d134",
     "grade": false,
     "grade_id": "cell-c29c2dac72d0cbe7",
     "locked": false,
     "schema_version": 3,
     "solution": true
    }
   },
   "outputs": [],
   "source": [
    "# Get temperature anomaly for each season for year 2012:\n",
    "# REPLACE THE ERROR BELOW WITH YOUR OWN CODE\n",
    "wi = winter_mean.loc[winter_mean.index == 2012].item()\n",
    "sp = spring_mean.loc[spring_mean.index == 2012].item()\n",
    "su = summer_mean.loc[summer_mean.index == 2012].item()\n",
    "fa = fall_mean.loc[fall_mean.index == 2012].item()"
   ]
  },
  {
   "cell_type": "markdown",
   "metadata": {
    "deletable": false,
    "editable": false,
    "nbgrader": {
     "cell_type": "markdown",
     "checksum": "9d3c8f5acf5024a4414cec53f3361208",
     "grade": false,
     "grade_id": "cell-37b90bfe6cb4fe92",
     "locked": true,
     "schema_version": 3,
     "solution": false
    }
   },
   "source": [
    "**2:** Create a list called `seasons` with four values: `wi`, `sp`, `su` and `fa`. "
   ]
  },
  {
   "cell_type": "code",
   "execution_count": 123,
   "metadata": {
    "deletable": false,
    "nbgrader": {
     "cell_type": "code",
     "checksum": "644dde6c1fc533ca9d753a5af9e90136",
     "grade": false,
     "grade_id": "seasons_list",
     "locked": false,
     "schema_version": 3,
     "solution": true
    }
   },
   "outputs": [],
   "source": [
    "# REPLACE THE ERROR BELOW WITH YOUR OWN CODE\n",
    "seasons = [wi, sp, su, fa]"
   ]
  },
  {
   "cell_type": "code",
   "execution_count": 125,
   "metadata": {
    "collapsed": false,
    "deletable": false,
    "editable": false,
    "jupyter": {
     "outputs_hidden": false
    },
    "nbgrader": {
     "cell_type": "code",
     "checksum": "6904e5a260014ddb28cde4679391331e",
     "grade": true,
     "grade_id": "problem_4_seasons_list_test",
     "locked": true,
     "points": 0.5,
     "schema_version": 3,
     "solution": false
    }
   },
   "outputs": [
    {
     "name": "stdout",
     "output_type": "stream",
     "text": [
      "[-2.0239263977608726, 0.7775051922639223, -0.3501953836864385, 1.322509230260636]\n"
     ]
    }
   ],
   "source": [
    "# This test print should print four floating point values in a list:\n",
    "print(seasons)\n"
   ]
  },
  {
   "cell_type": "markdown",
   "metadata": {
    "deletable": false,
    "editable": false,
    "nbgrader": {
     "cell_type": "markdown",
     "checksum": "1b827de5dc3590f53d26e0b2e72de83b",
     "grade": false,
     "grade_id": "cell-2878a64c05887534",
     "locked": true,
     "schema_version": 3,
     "solution": false
    }
   },
   "source": [
    "**3:** Visualize the seasonal anomalies as a barplot.\n",
    "\n",
    "Here are suggested steps for creating the plot:\n",
    "\n",
    "- Initialize the **figure** and **ax** with Matplotlib's `plt.subplots()` -function. You do not need pass any parameters (**[see hints](https://geo-python.github.io/2018/lessons/L7/exercise-7.html)**).\n",
    "\n",
    "- Use **`enumerate()`** -function (**[see hints](https://geo-python.github.io/site/lessons/L7/exercise-7.html)**) to (for) loop over the values in **seasons** list. When looping, you should store the list value into a variable called **`season`**. By using `enumerate()` -function you will, in addition to the list value, also get the index. \n",
    "\n",
    "\n",
    "- **Inside the loop** (for each season): \n",
    "    - Create a variable called `color`, and assign value **`\"red\"`** if the value in `season` is **higher than 0**, and **`\"blue\"`** in all other cases. \n",
    "    - Visualize the data with bar plot by using the Matplotlib's `bar()` -function. The **x** -parameter should be the **index** of the `seasons` list (the one you are iterating over), and the **y** -parameter should be the temperature value from **`season`** -variable, and the parameter **`width`** should be **`1.0`**.\n",
    "\n",
    "\n",
    "- **After the loop** (for the whole figure): \n",
    "    - Specify the value limits for y-axis: lower boundary should be **-6** and the higher boundary should be **6**. You should use the `set_ylim()` -function to do this (see lesson materials). \n",
    "    - Remove the x-axis ticks from the plot with command (you can just copy-paste this): `ax.set_xticks([], [])`\n",
    "    - Give intuitive annotations for each bar: use `text()` -function to add following texts to specified positions:\n",
    "        - Winter: at position `x=0` and `y=-5.5` add text **`Winter`**\n",
    "        - Spring: at position `x=1` and `y=-5.5` add text **`Spring`**\n",
    "        - Summer: at position `x=2` and `y=-5.5` add text **`Summer`**\n",
    "        - Fall: at position `x=3` and `y=-5.5` add text **`Fall`**\n",
    "    - Add title **`Seasonal weather anomalies in Helsinki`** to the plot. You can use parameter `fontsize=16` to adjust the fontsize to be the same as in example figure. \n",
    "    - Add xlabel **`2012`** to the plot. You can use parameter `fontsize=16` to adjust the fontsize to be the same as in example figure. \n",
    "    - Add ylabel **`Difference from long-term\\naverage temperature (Celsius)`** to the plot. You can use parameter `fontsize=14` to adjust the fontsize to be the same as in example figure. \n",
    "    - Save the figure into disk with name `seasonal_anomalies_in_2012.png`\n",
    "  \n",
    "     \n",
    "       "
   ]
  },
  {
   "cell_type": "code",
   "execution_count": 156,
   "metadata": {
    "collapsed": false,
    "deletable": false,
    "jupyter": {
     "outputs_hidden": false
    },
    "nbgrader": {
     "cell_type": "code",
     "checksum": "1b1a75e25c79b7364a3bce94fe9db2aa",
     "grade": true,
     "grade_id": "problem_4_anomaly_bar_plot",
     "locked": false,
     "points": 4.5,
     "schema_version": 3,
     "solution": true
    }
   },
   "outputs": [
    {
     "data": {
      "image/png": "[encoded data removed]",
      "text/plain": [
       "<Figure size 640x480 with 1 Axes>"
      ]
     },
     "metadata": {},
     "output_type": "display_data"
    }
   ],
   "source": [
    "# REPLACE THE ERROR BELOW WITH YOUR OWN CODE\n",
    "\n",
    "# Initialize figure\n",
    "fig, ax = plt.subplots()\n",
    "\n",
    "# Create bars for each season\n",
    "for idx, season in enumerate(seasons):\n",
    "    if season > 0:\n",
    "        color = \"red\"\n",
    "    else:\n",
    "        color = \"blue\"\n",
    "    ax.bar(\n",
    "        x=idx,\n",
    "        height=season,\n",
    "        width=1.0,\n",
    "        color=color\n",
    "    )\n",
    "\n",
    "ax.set_ylim([-6, 6])\n",
    "ax.set_xticks([], [])  # Remove ticks\n",
    "\n",
    "# Bar annotations\n",
    "ax.text(0, -5.5, \"Winter\")\n",
    "ax.text(1, -5.5, \"Spring\")\n",
    "ax.text(2, -5.5, \"Summer\")\n",
    "ax.text(3, -5.5, \"Fall\")\n",
    "\n",
    "# Figure labels\n",
    "ax.set_title(\"Seasonal weather anomalies in Helsinki\", fontsize=16)\n",
    "ax.set_xlabel(\"2012\", fontsize=16)\n",
    "ax.set_ylabel(\n",
    "    \"Difference from long-term\\naverage temperature (Celsius)\",\n",
    "    fontsize=14\n",
    ")\n",
    "\n",
    "# Display figure\n",
    "plt.show()\n",
    "    \n",
    "# Save figure\n",
    "fig.savefig(\"seasonal_anomalies_in_2012.png\")"
   ]
  },
  {
   "cell_type": "markdown",
   "metadata": {},
   "source": [
    "4: Upload the figure and the notebook into your personal GitHub repository.\n",
    "\n",
    "### Done!\n",
    "\n",
    "That's it! Now you can continue into problem 5 (below)."
   ]
  },
  {
   "cell_type": "markdown",
   "metadata": {
    "deletable": false,
    "editable": false,
    "nbgrader": {
     "cell_type": "markdown",
     "checksum": "7061a09dc567418fd3638026c3406664",
     "grade": false,
     "grade_id": "cell-9f29d11ba5df8c3d",
     "locked": true,
     "schema_version": 3,
     "solution": false
    }
   },
   "source": [
    "## Problem 5 - Seasonal temperature anomalies, animated (5 points)\n",
    "\n",
    "The goal for this problem is to plot seasonal temperature anomalies for yeach year and for each season from 1988 to 2018:\n",
    "\n",
    "![temp_anomaly_animation.gif](img/temperature_anomaly_animation.gif)<br/>\n",
    "*You can generate the GIF in optional problem 6!*\n",
    "\n",
    "**The solution from Problem 4 gives a good starting for this problem**, as now we are producing many similar plots and automating the generation of those visualizations by looping over different years. The instructions repeats quite many of the steps from Problem 4, but **they are not completely identical to the solution in problem 4!**. \n",
    "\n",
    "## Steps\n",
    "\n",
    "First, you might want to copy and paste your solution from Problem 4 into the cell below and start modifying that code:\n",
    "\n",
    " - Create variables new variables at the top of the code block:\n",
    "     - `start_year` that should contain the first year in the observation period (1988)\n",
    "     - `stop_year` that should contain the last year in the observation period + 1 (2019) \n",
    "     \n",
    " - Create a `for` loop for repeating the process for each year from 1988 to 2018:\n",
    "     - You can use the `range()` function and `start_year` and `stop_year` to define the correct range. \n",
    "     \n",
    " \n",
    " - **For yeach year** (inside the loop, use code for a single year from problem 4):\n",
    "     - Create variables `wi`, `sp`, `su`, and `fa` that corresponds to different seasons (namely winter, spring, summer and fall) and store the corresponding **mean anomaly temperature** for each season of the **`year`** that you are looping over. \n",
    "     - Create a list called `seasons` with four values: `wi`, `sp`, `su` and `fa`. \n",
    "     - Initialize the **figure** and **ax** with Matplotlib's `plt.subplots()` -function. \n",
    "     - For each season, visualize the data (loop over the values in **seasons** using **`enumerate()`** like you did in problem 4):\n",
    "         - **Set colors, Option 1:** use red for temperatures greater than zero, and blue for zero and below (similarly as in problem 4)\n",
    "         - **Set colors, Option 2:** (totally optional!) using [hex colors](https://en.wikipedia.org/wiki/Web_colors#Hex_triplet) and the following criteria:\n",
    "             - if `season` value is **higher than 3** the color of the bar is `'#b2182b'` \n",
    "             - if `season` value is **higher than 2 and below or equal to 3** the color of the bar is `'#ef8a62'`\n",
    "             - if `season` value is **higher or equal to 0 and below or equal to 2** the color of the bar is `'#fddbc7'`\n",
    "             - if `season` value is **lower or equal to -3** the color of the bar is `'#2166ac'`\n",
    "             - if `season` value is **lower or equal to -2 and higher than -3** the color of the bar is `'#67a9cf'\n",
    "             - if `season` value is **lower than 0 and higher than -2** the color of the bar is `'#d1e5f0'`\n",
    "         - **Plot the data** (same as problem 4):\n",
    "             - Visualize the data using the Matplotlib's `bar()` -function. The **x** -parameter should be the **index** of the `seasons` list (the one you are iterating over), and the **y** -parameter should be the temperature value from **`season`** -variable, and the parameter **`width`** should be **`1.0`**.\n",
    "\n",
    "          \n",
    "  - **After looping yeach season (i.e. back to first-level loop for one year)**: \n",
    "      - Specify the value limits for y-axis: lower boundary should be **-6** and the higher boundary should be **6**. You should use the `set_ylim()` -function to do this. \n",
    "      - Remove the x-axis ticks from the plot with command: `ax.set_xticks([], [])`\n",
    "      - Annotate the bars: use `text()` -function to add following texts to specified positions:\n",
    "          - Winter: at position `x=0` and `y=-5.5` add text **`Winter`**\n",
    "          - Spring: at position `x=1` and `y=-5.5` add text **`Spring`**\n",
    "          - Summer: at position `x=2` and `y=-5.5` add text **`Summer`**\n",
    "          - Fall: at position `x=3` and `y=-5.5` add text **`Fall`**\n",
    "      - Add title **`Seasonal weather anomalies in Helsinki`** to the plot, `fontsize=16`.\n",
    "      - Add xlabel according to the **`year`** you are plotting, `fontsize=16`.\n",
    "      - Add ylabel **`Difference from long-term\\naverage temperature (Celsius)`** to the plot, `fontsize=14`.\n",
    "      - Create a variable called **`outfp`** and store the name of output file into it following formula `seasonal_anomalies_in_YEARX.png` where the YEARX should be replaced with the year you are iterating over.\n",
    "      - **note:** it might be a good idea to create a new folder, such as `figures` into your repository, and define the output filepath as: `figures/seasonal_anomalies_in_YEARX.png`!\n",
    "      - Save the figure into disk using the filepath you specified."
   ]
  },
  {
   "cell_type": "code",
   "execution_count": null,
   "metadata": {},
   "outputs": [],
   "source": [
    "    wi = winter_mean.loc[winter_mean.index == year].item()\n",
    "    sp = spring_mean.loc[spring_mean.index == year].item()\n",
    "    su = summer_mean.loc[summer_mean.index == year].item()\n",
    "    fa = fall_mean.loc[fall_mean.index == year].item()\n",
    "    seasons = [wi, sp, su, fa]"
   ]
  },
  {
   "cell_type": "code",
   "execution_count": 200,
   "metadata": {
    "collapsed": false,
    "deletable": false,
    "jupyter": {
     "outputs_hidden": false
    },
    "nbgrader": {
     "cell_type": "code",
     "checksum": "4e480b1bad928f15228819321e602d98",
     "grade": true,
     "grade_id": "animation_bar_plots",
     "locked": false,
     "points": 5,
     "schema_version": 3,
     "solution": true
    }
   },
   "outputs": [
    {
     "ename": "ValueError",
     "evalue": "can only convert an array of size 1 to a Python scalar",
     "output_type": "error",
     "traceback": [
      "\u001b[0;31m---------------------------------------------------------------------------\u001b[0m",
      "\u001b[0;31mValueError\u001b[0m                                Traceback (most recent call last)",
      "Cell \u001b[0;32mIn[200], line 8\u001b[0m\n\u001b[1;32m      4\u001b[0m stop_year \u001b[38;5;241m=\u001b[39m \u001b[38;5;241m2019\u001b[39m \u001b[38;5;241m+\u001b[39m \u001b[38;5;241m1\u001b[39m\n\u001b[1;32m      6\u001b[0m \u001b[38;5;28;01mfor\u001b[39;00m year \u001b[38;5;129;01min\u001b[39;00m \u001b[38;5;28mrange\u001b[39m(start_year, stop_year):\n\u001b[1;32m      7\u001b[0m     \u001b[38;5;66;03m# Get season values\u001b[39;00m\n\u001b[0;32m----> 8\u001b[0m     wi \u001b[38;5;241m=\u001b[39m winter_mean\u001b[38;5;241m.\u001b[39mloc[winter_mean\u001b[38;5;241m.\u001b[39mindex \u001b[38;5;241m==\u001b[39m year]\u001b[38;5;241m.\u001b[39mitem()\n\u001b[1;32m      9\u001b[0m     sp \u001b[38;5;241m=\u001b[39m spring_mean\u001b[38;5;241m.\u001b[39mloc[spring_mean\u001b[38;5;241m.\u001b[39mindex \u001b[38;5;241m==\u001b[39m year]\u001b[38;5;241m.\u001b[39mitem()\n\u001b[1;32m     10\u001b[0m     su \u001b[38;5;241m=\u001b[39m summer_mean\u001b[38;5;241m.\u001b[39mloc[summer_mean\u001b[38;5;241m.\u001b[39mindex \u001b[38;5;241m==\u001b[39m year]\u001b[38;5;241m.\u001b[39mitem()\n",
      "File \u001b[0;32m/opt/anaconda3/lib/python3.12/site-packages/pandas/core/base.py:418\u001b[0m, in \u001b[0;36mIndexOpsMixin.item\u001b[0;34m(self)\u001b[0m\n\u001b[1;32m    416\u001b[0m \u001b[38;5;28;01mif\u001b[39;00m \u001b[38;5;28mlen\u001b[39m(\u001b[38;5;28mself\u001b[39m) \u001b[38;5;241m==\u001b[39m \u001b[38;5;241m1\u001b[39m:\n\u001b[1;32m    417\u001b[0m     \u001b[38;5;28;01mreturn\u001b[39;00m \u001b[38;5;28mnext\u001b[39m(\u001b[38;5;28miter\u001b[39m(\u001b[38;5;28mself\u001b[39m))\n\u001b[0;32m--> 418\u001b[0m \u001b[38;5;28;01mraise\u001b[39;00m \u001b[38;5;167;01mValueError\u001b[39;00m(\u001b[38;5;124m\"\u001b[39m\u001b[38;5;124mcan only convert an array of size 1 to a Python scalar\u001b[39m\u001b[38;5;124m\"\u001b[39m)\n",
      "\u001b[0;31mValueError\u001b[0m: can only convert an array of size 1 to a Python scalar"
     ]
    }
   ],
   "source": [
    "# REPLACE THE ERROR BELOW WITH YOUR OWN CODE\n",
    "\n",
    "start_year = 1988\n",
    "stop_year = 2019 + 1\n",
    "\n",
    "for year in range(start_year, stop_year):\n",
    "    # Get season values\n",
    "    wi = winter_mean.loc[winter_mean.index == year].item()\n",
    "    sp = spring_mean.loc[spring_mean.index == year].item()\n",
    "    su = summer_mean.loc[summer_mean.index == year].item()\n",
    "    fa = fall_mean.loc[fall_mean.index == year].item()\n",
    "    seasons = [wi, sp, su, fa]\n",
    "    \n",
    "    # Initialize figure\n",
    "    fig, ax = plt.subplots()\n",
    "    \n",
    "    # Create bars for each season\n",
    "    for idx, season in enumerate(seasons):\n",
    "        if season > 3:\n",
    "            color = \"#b2182b\"\n",
    "        elif season > 2:\n",
    "            color = \"#ef8a62\"\n",
    "        elif season >= 0:\n",
    "            color = \"#fddbc7\"\n",
    "        elif season > -2:\n",
    "            color = \"#d1e5f0\"\n",
    "        elif season > -3:\n",
    "            color = \"#67a9cf\"\n",
    "        else:\n",
    "            color = \"#2166ac\"\n",
    "        ax.bar(\n",
    "            x=idx,\n",
    "            height=season,\n",
    "            width=1.0,\n",
    "            color=color\n",
    "        )\n",
    "    \n",
    "    ax.set_ylim([-6, 6])\n",
    "    ax.set_xticks([], [])  # Remove ticks\n",
    "    \n",
    "    # Bar annotations\n",
    "    ax.text(0, -5.5, \"Winter\")\n",
    "    ax.text(1, -5.5, \"Spring\")\n",
    "    ax.text(2, -5.5, \"Summer\")\n",
    "    ax.text(3, -5.5, \"Fall\")\n",
    "    \n",
    "    # Figure labels\n",
    "    ax.set_title(\"Seasonal weather anomalies in Helsinki\", fontsize=16)\n",
    "    ax.set_xlabel(f\"{year}\", fontsize=16)\n",
    "    ax.set_ylabel(\n",
    "        \"Difference from long-term\\naverage temperature (Celsius)\",\n",
    "        fontsize=14\n",
    "    )\n",
    "        \n",
    "    # Save figure\n",
    "    outputfp = f\"figures/seasonal_anomalies_in_{year}.png\"\n",
    "    fig.savefig(outputfp)\n",
    "\n",
    "    # Prevent plot spams\n",
    "    plt.close()"
   ]
  },
  {
   "cell_type": "markdown",
   "metadata": {},
   "source": [
    "Remember to commit all the figures and this notebook to your own personal GitHub repository. \n",
    "\n",
    "## Done!\n",
    "\n",
    "That's it now you have successfully programmed a process where you visualize data automatically for many years! Pretty cool isn't it! \n",
    "\n",
    "As a next (optional) step, you can continue to [Problem 6](Exercise-7-problem-6.ipynb) to generate a GIF out of the image files. "
   ]
  }
 ],
 "metadata": {
  "kernelspec": {
   "display_name": "Python [conda env:base] *",
   "language": "python",
   "name": "conda-base-py"
  },
  "language_info": {
   "codemirror_mode": {
    "name": "ipython",
    "version": 3
   },
   "file_extension": ".py",
   "mimetype": "text/x-python",
   "name": "python",
   "nbconvert_exporter": "python",
   "pygments_lexer": "ipython3",
   "version": "3.12.2"
  }
 },
 "nbformat": 4,
 "nbformat_minor": 4
}
